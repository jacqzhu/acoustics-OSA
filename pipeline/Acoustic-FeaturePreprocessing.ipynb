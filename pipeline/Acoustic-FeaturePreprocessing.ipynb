{
 "cells": [
  {
   "cell_type": "code",
   "execution_count": 12,
   "id": "619b50eb",
   "metadata": {},
   "outputs": [],
   "source": [
    "import pandas as pd\n",
    "import numpy as np\n",
    "import seaborn as sns\n",
    "import matplotlib.pyplot as plt\n",
    "from sklearn.preprocessing import StandardScaler, PowerTransformer"
   ]
  },
  {
   "cell_type": "code",
   "execution_count": null,
   "id": "465e1ec3",
   "metadata": {},
   "outputs": [],
   "source": [
    "import os\n",
    "folder = \"/Users/jacquelinezhu/Desktop/SleepdB/acoustic_project/04162025_05142025\"\n",
    "input = os.path.join(folder, \"AcousticFeatures_April16_May14_soo.xlsx\")\n",
    "#df = pd.read_excel(input).dropna(how='all')"
   ]
  },
  {
   "cell_type": "code",
   "execution_count": null,
   "id": "81bcfee8",
   "metadata": {},
   "outputs": [],
   "source": [
    "def preprocess(original: pd.Series) -> tuple[pd.Series, pd.Series]:\n",
    "    \n",
    "    original = pd.to_numeric(original, errors='coerce')\n",
    "    log = np.log1p(original)()\n",
    "\n",
    "    #transformer = PowerTransformer(method='yeo-johnson', standardize=False)\n",
    "    #yeo_arr = transformer.fit_transform(original.values.reshape(-1, 1))\n",
    "    #yeo = pd.Series(yeo_arr.ravel(), index=original.index)\n",
    "\n",
    "    return original, log"
   ]
  },
  {
   "cell_type": "code",
   "execution_count": null,
   "id": "162fe434",
   "metadata": {},
   "outputs": [],
   "source": [
    "def plot(series: pd.Series):\n",
    "    feature_name = \"AHI\"\n",
    "    original, log_transformed = preprocess(series)\n",
    "\n",
    "    n_samples = len(original)\n",
    "    fig, axes = plt.subplots(1, 2, figsize=(12, 5))\n",
    "\n",
    "    sns.histplot(original, kde=True, bins=n_samples, ax=axes[0], color=\"steelblue\")\n",
    "    axes[0].set_title(f\"Original {feature_name}\")\n",
    "\n",
    "    sns.histplot(log_transformed, kde=True, bins=n_samples, ax=axes[1], color=\"orange\")\n",
    "    axes[1].set_title(f\"Log {feature_name}\")\n",
    "\n",
    "    plt.tight_layout()\n",
    "    plt.show()\n",
    "\n",
    "plot(df['AHI'])"
   ]
  },
  {
   "cell_type": "code",
   "execution_count": null,
   "id": "47929e8c",
   "metadata": {},
   "outputs": [],
   "source": [
    "def plot2(df: pd.DataFrame):\n",
    "    for i in range(0, 7, 2):\n",
    "        col1 = f\"spec_contrast{i}\"\n",
    "        col2 = f\"spec_contrast{i+1}\"\n",
    "\n",
    "        if col1 in df.columns and col2 in df.columns:\n",
    "            fig, axes = plt.subplots(1, 2, figsize=(16, 5))  # Two subplots\n",
    "\n",
    "            series1 = pd.to_numeric(df[col1], errors='coerce')\n",
    "            n_samples1 = len(series1)\n",
    "            sns.histplot(series1, kde=True, bins=n_samples1, color=\"steelblue\", ax=axes[0])\n",
    "            axes[0].set_title(f\"Original {col1}\")\n",
    "\n",
    "            series2 = pd.to_numeric(df[col2], errors='coerce')\n",
    "            n_samples2 = len(series2)\n",
    "            sns.histplot(series2, kde=True, bins=n_samples2, color=\"steelblue\", ax=axes[1])\n",
    "            axes[1].set_title(f\"Original {col2}\")\n",
    "\n",
    "            plt.tight_layout()\n",
    "            plt.show()\n",
    "\n",
    "plot2(df)"
   ]
  },
  {
   "cell_type": "code",
   "execution_count": 29,
   "id": "3554059a",
   "metadata": {},
   "outputs": [
    {
     "name": "stderr",
     "output_type": "stream",
     "text": [
      "/opt/anaconda3/lib/python3.11/site-packages/sklearn/preprocessing/_data.py:3256: RuntimeWarning: overflow encountered in power\n",
      "  out[pos] = (np.power(x[pos] + 1, lmbda) - 1) / lmbda\n"
     ]
    },
    {
     "name": "stdout",
     "output_type": "stream",
     "text": [
      "⚠️ Skipping bandPow0_10 due to: The algorithm terminated without finding a valid bracket. Consider trying different initial points.\n"
     ]
    }
   ],
   "source": [
    "import os\n",
    "\n",
    "folder = \"/Users/jacquelinezhu/Desktop/SleepdB/acoustic_project/05142025\"\n",
    "\n",
    "input_file = os.path.join(folder, \"AcousticFeatures_May14_AHI.xlsx\")\n",
    "output_file = os.path.join(folder, \"AcousticFeatures_May14_AHI_2_scaled2.xlsx\")\n",
    "\n",
    "\n",
    "df = pd.read_excel(input_file).dropna(how='all')\n",
    "df = df.apply(pd.to_numeric, errors='coerce')\n",
    "\n",
    "scaled_features = {}\n",
    "\n",
    "for feature_name in df.columns:\n",
    "    original_col = df[feature_name]\n",
    "    if original_col.dropna().empty:\n",
    "        continue\n",
    "    try:\n",
    "        _, _, scaled = preprocess(original_col)\n",
    "    except Exception as e:\n",
    "        print(f\"⚠️ Skipping {feature_name} due to: {e}\")\n",
    "        scaled = original_col.copy() \n",
    "    \n",
    "    scaled_full = scaled.reindex(df.index)\n",
    "    scaled_features[feature_name] = scaled_full\n",
    "\n",
    "scaled_df = pd.DataFrame(scaled_features)\n",
    "scaled_df.to_excel(output_file, index=False)"
   ]
  },
  {
   "cell_type": "code",
   "execution_count": null,
   "id": "d305afbb",
   "metadata": {},
   "outputs": [],
   "source": [
    "def plot(series: pd.Series, log_series: pd.Series, scaled_series: pd.Series, feature_name: str) -> None:\n",
    "    data_list = [series, log_series, scaled_series]\n",
    "    titles = [\"Original\", \"Yeo Johnson\", \"Scaled\"]\n",
    "\n",
    "    plt.figure(figsize=(12, 3))\n",
    "    for i, (data, title) in enumerate(zip(data_list, titles), start=1):\n",
    "        plt.subplot(1, 3, i)\n",
    "        sns.histplot(data, bins=37, kde=True)\n",
    "        plt.title(f\"{title}: {feature_name}\")\n",
    "\n",
    "    plt.tight_layout()\n",
    "    plt.show()"
   ]
  },
  {
   "cell_type": "code",
   "execution_count": null,
   "id": "96aedc1b",
   "metadata": {},
   "outputs": [],
   "source": [
    "# bandpower\n",
    "\n",
    "folder = \"/Users/jacquelinezhu/Desktop/SleepdB/acoustic_project/05142025\"\n",
    "input_file = os.path.join(folder, \"AcousticFeatures_May14_AHI_2.xlsx\")\n",
    "output_file = os.path.join(folder, \"AcousticFeatures_May14_AHI_2_scaled_bandpower.xlsx\")\n",
    "\n",
    "feature_name = \"bandPow0_10\"\n",
    "\n",
    "df = pd.read_excel(input_file).dropna(how='all')\n",
    "df = df.apply(pd.to_numeric, errors='coerce')\n",
    "\n",
    "feature = df[feature_name].replace([np.inf, -np.inf], np.nan).dropna()\n",
    "\n",
    "scaler = StandardScaler()\n",
    "scaled = pd.Series(\n",
    "    scaler.fit_transform(feature.values.reshape(-1, 1)).ravel(),\n",
    "    index=feature.index\n",
    ")\n",
    "\n",
    "scaled_df = pd.DataFrame({feature_name: scaled.reindex(df.index)})\n",
    "scaled_df.to_excel(output_file, index=False)"
   ]
  }
 ],
 "metadata": {
  "kernelspec": {
   "display_name": "base",
   "language": "python",
   "name": "python3"
  },
  "language_info": {
   "codemirror_mode": {
    "name": "ipython",
    "version": 3
   },
   "file_extension": ".py",
   "mimetype": "text/x-python",
   "name": "python",
   "nbconvert_exporter": "python",
   "pygments_lexer": "ipython3",
   "version": "3.11.7"
  }
 },
 "nbformat": 4,
 "nbformat_minor": 5
}
